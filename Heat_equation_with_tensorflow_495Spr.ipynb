{
  "cells": [
    {
      "cell_type": "markdown",
      "metadata": {
        "id": "view-in-github",
        "colab_type": "text"
      },
      "source": [
        "<a href=\"https://colab.research.google.com/github/jasgcode/tmath495Sp24/blob/master/Heat_equation_with_tensorflow_495Spr.ipynb\" target=\"_parent\"><img src=\"https://colab.research.google.com/assets/colab-badge.svg\" alt=\"Open In Colab\"/></a>"
      ]
    },
    {
      "cell_type": "markdown",
      "metadata": {
        "id": "BrEOQdASy_e7"
      },
      "source": [
        "# This notebook is a modification of Yanqi's original notebook\n",
        "[(Version 2) Heat_equation_with_tensorflow.ipynb](https://colab.research.google.com/drive/1o4nZpkxIi-M2sQiB4GniLza3rYGvGrv-)\n",
        "\n",
        "We consider physics informatnion in the following two methods:\n",
        "\n",
        "1. Delete the source terms and use the homogeneous equation to model the _interior_ of the trunk. (tested-- not good)\n",
        "\n",
        "2. Use Yanqi's method and use the source term through the body of the tree trunk. This method is implemented in the original notebook. (notebooks saved in a folder)"
      ]
    },
    {
      "cell_type": "markdown",
      "metadata": {
        "id": "AgIpLMPFGGqp"
      },
      "source": [
        "This notebook solves the polar heat equation in one dimension\n",
        "\n",
        "$\\rho c \\frac{\\partial T}{\\partial t}=\\frac{\\partial k}{\\partial r}\\frac{\\partial T}{\\partial r}+\\frac{k}{r}\\frac{\\partial T}{\\partial r}+k\\frac{\\partial^2 T}{\\partial r^2}+\\text{source terms}$\n",
        "\n",
        "With the assumption that $\\frac{\\partial k}{\\partial r} = 0$, the equation simplifies to\n",
        "\n",
        "$\\rho c \\frac{\\partial T}{\\partial t}=\\frac{k}{r}\\frac{\\partial T}{\\partial r}+k\\frac{\\partial^2 T}{\\partial r^2}+\\text{source terms}$\n",
        "\n",
        "The initial condition is included in the solution data $t = 0$. Two boundary conditions are from the measured core and bark temperatures.\n",
        "\n",
        "We aim to solve the forward problem for predicting the solution of the PDE.\n",
        "\n",
        "\n",
        "The Physics information within the tree trunk is given by the\n",
        "\n",
        "$\\text{residual} = \\frac{\\partial T}{\\partial t}-\\frac{k}{\\rho c r}\\frac{\\partial T}{\\partial r}-\\frac{k}{\\rho c}\\frac{\\partial^2 T}{\\partial r^2}$\n",
        "\n",
        "The parameters are from various experimental results. These parameters are identified with our measured temperature data, in the inverse problem setting."
      ]
    },
    {
      "cell_type": "markdown",
      "metadata": {
        "id": "v68Rf_0FoX0N"
      },
      "source": [
        "## Two terms are in the loss function:\n",
        "\n",
        "1. At `X_r`: residual of the PDE is computed.\n",
        "2. At `X`: error of measured and computed solution is computed at these points.\n",
        "\n",
        "The two terms are then summed up to be in the loss function."
      ]
    },
    {
      "cell_type": "code",
      "execution_count": null,
      "metadata": {
        "colab": {
          "base_uri": "https://localhost:8080/"
        },
        "id": "gzL23xJFGFnJ",
        "outputId": "9b24d10d-c30c-47c5-bdb4-f8e85b049839"
      },
      "outputs": [
        {
          "name": "stdout",
          "output_type": "stream",
          "text": [
            "Python 3 version is 3.10.12 (main, Nov 20 2023, 15:14:05) [GCC 11.4.0]\n",
            "Matplotlib version is 3.7.1\n",
            "Tensorflow version is 2.15.0\n",
            "Numpy version is 1.25.2\n"
          ]
        }
      ],
      "source": [
        "import tensorflow as tf\n",
        "import numpy as np\n",
        "import pandas as pd\n",
        "\n",
        "from matplotlib import pyplot as plt\n",
        "%matplotlib inline\n",
        "\n",
        "from sklearn.linear_model import LinearRegression\n",
        "from sklearn.metrics import mean_squared_error, mean_absolute_error\n",
        "from sklearn import preprocessing\n",
        "\n",
        "from time import time\n",
        "\n",
        "tf.experimental.numpy.experimental_enable_numpy_behavior()\n",
        "\n",
        "import sys\n",
        "print(\"Python 3 version is\", sys.version)\n",
        "import matplotlib\n",
        "print(\"Matplotlib version is\", matplotlib.__version__)\n",
        "print(\"Tensorflow version is\", tf.__version__)\n",
        "print(\"Numpy version is\", np.__version__)"
      ]
    },
    {
      "cell_type": "markdown",
      "metadata": {
        "id": "3Lgg7fVwrL7S"
      },
      "source": [
        "### Hyperparameters, tree trunk dimensions"
      ]
    },
    {
      "cell_type": "code",
      "execution_count": null,
      "metadata": {
        "id": "JJdb444dqe29"
      },
      "outputs": [],
      "source": [
        "DTYPE = 'float64'\n",
        "tf.keras.backend.set_floatx(DTYPE)\n",
        "\n",
        "# Set boundary range\n",
        "tmin = 0.\n",
        "tmax = 24.\n",
        "xmin = 0.001\n",
        "xmax = 0.135\n",
        "\n",
        "## to do--\n",
        "## add height variable, direction variable\n",
        "\n",
        "# define parameter\n",
        "N_0 = 400\n",
        "n_t = 4000\n",
        "radius = 0.135 # unit m\n",
        "time = np.linspace(0, 24, n_t, endpoint = False)"
      ]
    },
    {
      "cell_type": "markdown",
      "metadata": {
        "id": "HkZDb5HPrxaW"
      },
      "source": [
        "Set hyperparameters"
      ]
    },
    {
      "cell_type": "markdown",
      "metadata": {
        "id": "Q_W-pUDuobO1"
      },
      "source": [
        "# **Fetch temperature data from specified date**"
      ]
    },
    {
      "cell_type": "code",
      "execution_count": null,
      "metadata": {
        "id": "S1vH4-9_olRB"
      },
      "outputs": [],
      "source": [
        "colnames = ['temp_datetime', 's45_1', 'e9_1', 'n135_1','e45_2', 'n9_2', 'w135_2', 'n45_3', 'w9_3','s135_3', 'w_ext_35']\n",
        "url1 = \"https://raw.githubusercontent.com/yajuna/linearRegression/master/Tree_Temp_Values_AUG21_to_AUG28_2022.xlsx\"\n",
        "dataTemp = pd.read_excel(url1,names=colnames)\n",
        "dataTemp['temp_datetime'] = pd.to_datetime(dataTemp['temp_datetime'])\n",
        "dataTemp = dataTemp.set_index('temp_datetime')"
      ]
    },
    {
      "cell_type": "code",
      "execution_count": null,
      "metadata": {
        "colab": {
          "base_uri": "https://localhost:8080/"
        },
        "id": "VJDaVB4Boyme",
        "outputId": "ad42a801-bf8c-4463-ac39-e8e7d3be5f33"
      },
      "outputs": [
        {
          "name": "stdout",
          "output_type": "stream",
          "text": [
            "measured temperature data read\n"
          ]
        }
      ],
      "source": [
        "train_range = dataTemp.loc['2022-08-21':'2022-08-21 23:59:59']\n",
        "\n",
        "test_range = dataTemp.loc['2022-08-22':'2022-08-22 23:59:59']\n",
        "\n",
        "train_temp_size = len(train_range.index)\n",
        "# linear interpolate the measured temperature\n",
        "train_coreTemp = np. interp(time, np.linspace(0,24,train_temp_size),train_range.s135_3)\n",
        "train_midTemp1 = np. interp(time, np.linspace(0,24,train_temp_size),train_range.w9_3)\n",
        "train_midTemp2 = np. interp(time, np.linspace(0,24,train_temp_size),train_range.n45_3)\n",
        "train_barkTemp = np. interp(time, np.linspace(0,24,train_temp_size),train_range.w_ext_35)\n",
        "\n",
        "# read more columns, and correspond temperature values at the z, r, and phi\n",
        "# values\n",
        "\n",
        "test_temp_size = len(test_range.index)\n",
        "test_coreTemp = np. interp(time, np.linspace(0,24,test_temp_size),test_range.s135_3)\n",
        "test_midTemp1 = np. interp(time, np.linspace(0,24,test_temp_size),test_range.w9_3)\n",
        "test_midTemp2 = np. interp(time, np.linspace(0,24,test_temp_size),test_range.n45_3)\n",
        "test_barkTemp = np. interp(time, np.linspace(0,24,test_temp_size),test_range.w_ext_35)\n",
        "\n",
        "print(\"measured temperature data read\")\n",
        "# print(train_range)\n",
        "\n",
        "# print(test_range)"
      ]
    },
    {
      "cell_type": "code",
      "execution_count": null,
      "metadata": {
        "id": "EoPylKQAHtGY"
      },
      "outputs": [],
      "source": [
        "colnames = ['weather_datetime', 'wind_speed', 'wind_direction', 'humidity', 'air_temperature', 'air_pressure', 'solar_DNI']\n",
        "url2 = \"https://raw.githubusercontent.com/yajuna/linearRegression/master/Weather_Station_AUG21_to_AUG28_2022.xlsx\"\n",
        "dataWeather = pd.read_excel(url2,names=colnames)\n",
        "dataWeather['weather_datetime'] = pd.to_datetime(dataWeather['weather_datetime'])\n",
        "dataWeather = dataWeather.set_index('weather_datetime')"
      ]
    },
    {
      "cell_type": "code",
      "execution_count": null,
      "metadata": {
        "id": "t4Sjpt6Gc5Vn"
      },
      "outputs": [],
      "source": [
        "train_weather = dataWeather.loc['2022-08-21':'2022-08-21 23:59:59']\n",
        "\n",
        "test_weather = dataWeather.loc['2022-08-22':'2022-08-22 23:59:59']\n",
        "\n",
        "train_weather_size = len(train_weather.index)\n",
        "\n",
        "train_airTemp = np.interp(time, np.linspace(0,24,train_weather_size),train_weather.air_temperature)\n",
        "train_windSpeed = np.interp(time, np.linspace(0,24,train_weather_size),train_weather.wind_speed)\n",
        "train_solar = np.interp(time, np.linspace(0,24,train_weather_size),train_weather.solar_DNI)\n",
        "train_humidity = np.interp(time, np.linspace(0,24,train_weather_size),train_weather.humidity)\n",
        "train_airPressure = np.interp(time, np.linspace(0,24,train_weather_size),train_weather.air_pressure)\n",
        "\n",
        "test_weather_size = len(test_weather.index)\n",
        "\n",
        "test_airTemp = np.interp(time, np.linspace(0,24,test_weather_size),test_weather.air_temperature)\n",
        "test_windSpeed = np.interp(time, np.linspace(0,24,test_weather_size),test_weather.wind_speed)\n",
        "test_solar = np.interp(time, np.linspace(0,24,test_weather_size),test_weather.solar_DNI)\n",
        "test_humidity = np.interp(time, np.linspace(0,24,test_weather_size),test_weather.humidity)\n",
        "test_airPressure = np.interp(time, np.linspace(0,24,test_weather_size),test_weather.air_pressure)\n",
        "\n",
        "# print(train_weather)\n",
        "# print(test_weather)"
      ]
    },
    {
      "cell_type": "code",
      "execution_count": null,
      "metadata": {
        "id": "3oGNEg17rwKl"
      },
      "outputs": [],
      "source": [
        "# Lower bounds in time and space\n",
        "lb = tf.constant([tmin, xmin], dtype=DTYPE)\n",
        "# Upper bounds in time and space\n",
        "ub = tf.constant([tmax, xmax], dtype=DTYPE)\n",
        "\n",
        "# Set random seed for reproducible results\n",
        "tf.random.set_seed(0)\n",
        "\n",
        "# take 4 points for the initial condition, as there are the only measurements at t = 0\n",
        "t_0 = tf.ones((N_0,1), dtype=DTYPE)*lb[0]\n",
        "x_init = tf.linspace(lb[1], ub[1], N_0)\n",
        "x_0 = tf.reshape(x_init, (N_0,1))\n",
        "X_0 = tf.concat([t_0, x_0], axis=1)\n",
        "\n",
        "# Boundary data- left to be core temperature, and right the bark temperature\n",
        "t_boundary = tf.linspace(lb[0], ub[0], N_0)\n",
        "t_b = tf.reshape(t_boundary, (N_0,1))\n",
        "x_lb = tf.ones((N_0,1), dtype=DTYPE)*lb[1]\n",
        "x_ub = tf.ones((N_0,1), dtype=DTYPE)*ub[1]\n",
        "X_lb = tf.concat([t_b, x_lb], axis=1)\n",
        "X_ub = tf.concat([t_b, x_ub], axis=1)\n",
        "\n",
        "## Add extra training data at X_train (location at midTemp1)\n",
        "idx = int(N_0 / 3)\n",
        "x_train1 = tf.ones((N_0,1), dtype=DTYPE) * x_init[idx]\n",
        "X_train1 = tf.concat([t_b, x_train1], axis=1)\n",
        "x_train2 = tf.ones((N_0,1), dtype=DTYPE) * x_init[2 * idx]\n",
        "X_train2 = tf.concat([t_b, x_train2], axis=1)\n",
        "\n",
        "# Draw uniformly sampled collocation points\n",
        "t_r = tf.random.uniform((N_0,1), lb[0], ub[0], dtype=DTYPE)\n",
        "x_r = tf.random.uniform((N_0,1), lb[1], ub[1], dtype=DTYPE)\n",
        "X_r = tf.concat([t_r, x_r], axis=1)"
      ]
    },
    {
      "cell_type": "markdown",
      "metadata": {
        "id": "NKcQoX1oznik"
      },
      "source": [
        "### Visualize location of data points"
      ]
    },
    {
      "cell_type": "code",
      "execution_count": null,
      "metadata": {
        "colab": {
          "base_uri": "https://localhost:8080/",
          "height": 582
        },
        "id": "-VvpF54YznBK",
        "outputId": "5cc23138-1007-49f8-9956-aba936500cdd"
      },
      "outputs": [
        {
          "data": {
            "text/plain": [
              "Text(0.5, 1.0, 'Location of measured data for training')"
            ]
          },
          "execution_count": 8,
          "metadata": {},
          "output_type": "execute_result"
        },
        {
          "data": {
            "image/png": "[encoded data removed]",
            "text/plain": [
              "<Figure size 900x600 with 1 Axes>"
            ]
          },
          "metadata": {},
          "output_type": "display_data"
        }
      ],
      "source": [
        "fig = plt.figure(figsize=(9,6))\n",
        "# plt.scatter(t_0, x_0, c='k', marker='.')\n",
        "plt.scatter(t_b, x_lb, c='y', marker='.')\n",
        "plt.scatter(t_b, x_ub, c='b', marker='.')\n",
        "plt.scatter(t_r, x_r, c='r', marker='.', alpha=0.1)\n",
        "plt.scatter(t_b, x_train1, c='g', marker='.')\n",
        "plt.scatter(t_b, x_train2, c='cyan', marker='.')\n",
        "plt.xlabel('$Time in a day t')\n",
        "plt.ylabel('$Distance from the core of tree trunk x')\n",
        "plt.title('Location of measured data for training')"
      ]
    },
    {
      "cell_type": "markdown",
      "metadata": {
        "id": "BloSxu2EfPPs"
      },
      "source": [
        "### Assemble input data for the neural network.\n",
        "\n",
        "We record space-time information in X_data, and solution values at u_data."
      ]
    },
    {
      "cell_type": "code",
      "execution_count": null,
      "metadata": {
        "id": "mZdMiRUNouMj"
      },
      "outputs": [],
      "source": [
        "u_lb = train_coreTemp\n",
        "u_ub = train_barkTemp\n",
        "u_train1 = train_midTemp1\n",
        "u_train2 = train_midTemp2\n",
        "\n",
        "# collect initial and two boundary data in lists # add training data and points\n",
        "X_data = [X_lb, X_ub, X_train1, X_train2]\n",
        "u_data = [u_lb, u_ub, u_train1, u_train2]"
      ]
    },
    {
      "cell_type": "markdown",
      "metadata": {
        "id": "Pu7I0-pMDdPF"
      },
      "source": [
        "## Here we implement the forward problem- our goal is to train a neural network to solve the PDE, with the measured tree temperatures.\n",
        "\n",
        "We use known coefficients for $k$, $c$, and $\\rho$.\n",
        "\n",
        "thermal_conductivity = 0.16 # denoted by k in paper # pg 3-17, wood handbook.\n",
        "\n",
        "rho = 720 # kg /m**3\n",
        "\n",
        "specific_heat = 1300 # denoted by c in paper # table 3-12, at 27 degrees, MC 12%, wood handbook"
      ]
    },
    {
      "cell_type": "code",
      "execution_count": null,
      "metadata": {
        "id": "0E-1bp1TGjrL"
      },
      "outputs": [],
      "source": [
        "k = 0.16\n",
        "c = 1300\n",
        "rho = 720"
      ]
    },
    {
      "cell_type": "code",
      "execution_count": null,
      "metadata": {
        "id": "kvcqjOLnFXZy"
      },
      "outputs": [],
      "source": [
        "def init_model(num_hidden_layers=8, num_neurons_per_layer=20):\n",
        "    # Initialize a feedforward neural network\n",
        "    model = tf.keras.Sequential()\n",
        "\n",
        "    # Input is two-dimensional (time + one spatial dimension)\n",
        "    model.add(tf.keras.Input(2))\n",
        "\n",
        "    # Introduce a scaling layer to map input to [lb, ub]\n",
        "    scaling_layer = tf.keras.layers.Lambda(\n",
        "                lambda x: 2.0*(x - lb)/(ub - lb) - 1.0)\n",
        "    model.add(scaling_layer)\n",
        "\n",
        "    # Append hidden layers\n",
        "    for _ in range(num_hidden_layers):\n",
        "        model.add(tf.keras.layers.Dense(num_neurons_per_layer,\n",
        "            activation=tf.keras.activations.get('tanh'),\n",
        "            kernel_initializer='glorot_normal'))\n",
        "\n",
        "    # Output is one-dimensional\n",
        "    model.add(tf.keras.layers.Dense(1))\n",
        "\n",
        "    return model"
      ]
    },
    {
      "cell_type": "markdown",
      "metadata": {
        "id": "OnDjWd2YRLuK"
      },
      "source": [
        "### Physics information is given by the heat equation.\n",
        "\n",
        "We compute the loss of physics information at the points `X_r`."
      ]
    },
    {
      "cell_type": "code",
      "execution_count": null,
      "metadata": {
        "id": "vd1u9oxkFwo-"
      },
      "outputs": [],
      "source": [
        "# Define residual of the cylinder PDE\n",
        "def fun_r(T_r, T_rr, T_pp, T_zz, T_t, r):\n",
        "\n",
        "    return k/r * T_x + k*T_xx + (k/r**2 * T_pp + T_t)\n",
        "\n",
        "## test"
      ]
    },
    {
      "cell_type": "code",
      "execution_count": null,
      "metadata": {
        "id": "lIlqERM4FfBu"
      },
      "outputs": [],
      "source": [
        "def get_r(model, X)-> tf.Tensor:\n",
        "\n",
        "    # A tf.GradientTape is used to compute derivatives in TensorFlow\n",
        "    with tf.GradientTape(persistent=True) as tape:\n",
        "        # Split t and x to compute partial derivatives\n",
        "        t, r, z, phi = X[:, 0:1], X[:,1:2]\n",
        "\n",
        "        # Variables t and x are watched during tape\n",
        "        # to compute derivatives u_t and u_x\n",
        "        tape.watch(t)\n",
        "        tape.watch(r)\n",
        "        tape.watch(z)\n",
        "        tape.watch(phi)\n",
        "         # Determine residual\n",
        "        T = model(tf.stack([t[:,0], x[:,0]], axis=1))\n",
        "\n",
        "        # Compute gradient u_x within the GradientTape\n",
        "        # since we need second derivatives\n",
        "        T_r = tape.gradient(T,r)\n",
        "        T_z = tape.gradient(T,z)\n",
        "        T_phi = tape.gradient(T,phi)\n",
        "\n",
        "\n",
        "\n",
        "    T_t = tape.gradient(T, t)\n",
        "    T_rr = tape.gradient(T_r, r)\n",
        "    T_pp = tape.gradient(T_phi,phi)\n",
        "    T_zz = tape.gradient(T_z,z)\n",
        "\n",
        "    del tape\n",
        "\n",
        "    return fun_r(T_r, T_rr, T_pp, T_zz, T_t, r)"
      ]
    },
    {
      "cell_type": "code",
      "execution_count": null,
      "metadata": {
        "id": "MEmUatvSHyFS"
      },
      "outputs": [],
      "source": [
        "def compute_loss(model, X_r, X_data, u_data):\n",
        "\n",
        "    # Compute phi^r\n",
        "    r = get_r(model, X_r)\n",
        "    phi_r = tf.reduce_mean(tf.square(r))\n",
        "    # Initialize loss with interior residual\n",
        "    loss = phi_r\n",
        "\n",
        "    # Add phi^0 and phi^b to the loss\n",
        "    for i in range(len(X_data)):\n",
        "        u_pred = model(X_data[i])\n",
        "        loss += tf.reduce_mean(tf.square(u_data[i] - u_pred))\n",
        "\n",
        "    return loss"
      ]
    },
    {
      "cell_type": "code",
      "execution_count": null,
      "metadata": {
        "id": "qwh80M0oIH54"
      },
      "outputs": [],
      "source": [
        "def get_grad(model, X_r, X_data, u_data):\n",
        "\n",
        "    with tf.GradientTape(persistent=True) as tape:\n",
        "        # This tape is for derivatives with\n",
        "        # respect to trainable variables\n",
        "        tape.watch(model.trainable_variables)\n",
        "        loss = compute_loss(model, X_r, X_data, u_data)\n",
        "\n",
        "    g = tape.gradient(loss, model.trainable_variables)\n",
        "    del tape\n",
        "\n",
        "    return loss, g"
      ]
    },
    {
      "cell_type": "code",
      "execution_count": null,
      "metadata": {
        "id": "7q_52jXxIV8K"
      },
      "outputs": [],
      "source": [
        "# Initialize model aka u_\\theta\n",
        "model = init_model()\n",
        "\n",
        "# We choose a piecewise decay of the learning rate, i.e., the\n",
        "# step size in the gradient descent type algorithm\n",
        "# the first 1000 steps use a learning rate of 0.01\n",
        "# from 1000 - 3000: learning rate = 0.001\n",
        "# from 3000 onwards: learning rate = 0.0005\n",
        "\n",
        "# lr = tf.keras.optimizers.schedules.PiecewiseConstantDecay([1000,3000],[1e-2,1e-3,5e-4])\n",
        "lr = 2e-2\n",
        "\n",
        "# Choose the optimizer\n",
        "optim = tf.keras.optimizers.Adam(learning_rate=lr)"
      ]
    },
    {
      "cell_type": "markdown",
      "metadata": {
        "id": "IeAUidlotRh_"
      },
      "source": [
        "### Run four times of a total of 20,000 epochs to see loss = 1e1"
      ]
    },
    {
      "cell_type": "code",
      "execution_count": null,
      "metadata": {
        "colab": {
          "background_save": true,
          "base_uri": "https://localhost:8080/"
        },
        "id": "T6rFAMH1Iacq",
        "outputId": "0eaa4894-5de7-4aae-a23f-b19c3c58e57f"
      },
      "outputs": [
        {
          "name": "stderr",
          "output_type": "stream",
          "text": [
            "WARNING:tensorflow:Calling GradientTape.gradient on a persistent tape inside its context is significantly less efficient than calling it outside the context (it causes the gradient ops to be recorded on the tape, leading to increased CPU and memory usage). Only call GradientTape.gradient inside the context if you actually want to trace the gradient in order to compute higher order derivatives.\n"
          ]
        },
        {
          "name": "stdout",
          "output_type": "stream",
          "text": [
            "It 00000: loss = 5.65298724e+06\n",
            "It 00050: loss = 1.36989699e+05\n",
            "It 00100: loss = 3.40362300e+04\n",
            "It 00150: loss = 1.95747471e+04\n",
            "It 00200: loss = 1.23031345e+04\n",
            "It 00250: loss = 8.59557820e+03\n",
            "It 00300: loss = 6.67393080e+03\n",
            "It 00350: loss = 5.60452412e+03\n",
            "It 00400: loss = 4.93050147e+03\n",
            "It 00450: loss = 4.44146453e+03\n",
            "It 00500: loss = 4.04537061e+03\n",
            "It 00550: loss = 3.70322237e+03\n",
            "It 00600: loss = 3.39832442e+03\n",
            "It 00650: loss = 3.12289008e+03\n",
            "It 00700: loss = 2.87261141e+03\n",
            "It 00750: loss = 2.64458691e+03\n",
            "It 00800: loss = 2.43656014e+03\n",
            "It 00850: loss = 2.24663703e+03\n",
            "It 00900: loss = 2.07317032e+03\n",
            "It 00950: loss = 1.91470183e+03\n",
            "It 01000: loss = 1.76992675e+03\n",
            "It 01050: loss = 1.63766821e+03\n",
            "It 01100: loss = 1.51685788e+03\n",
            "It 01150: loss = 1.40652109e+03\n",
            "It 01200: loss = 1.30576506e+03\n",
            "It 01250: loss = 1.21376965e+03\n",
            "It 01300: loss = 1.12977992e+03\n",
            "It 01350: loss = 1.05310011e+03\n",
            "It 01400: loss = 9.83088604e+02\n",
            "It 01450: loss = 9.19153637e+02\n",
            "It 01500: loss = 8.60749668e+02\n",
            "It 01550: loss = 8.07374121e+02\n",
            "It 01600: loss = 7.58564501e+02\n",
            "It 01650: loss = 7.13895779e+02\n",
            "It 01700: loss = 6.72977986e+02\n",
            "It 01750: loss = 6.35453983e+02\n",
            "It 01800: loss = 6.00997367e+02\n",
            "It 01850: loss = 5.69310489e+02\n",
            "It 01900: loss = 5.40122568e+02\n",
            "It 01950: loss = 5.13187880e+02\n",
            "It 02000: loss = 4.88284016e+02\n",
            "It 02050: loss = 4.65210198e+02\n",
            "It 02100: loss = 4.43785657e+02\n",
            "It 02150: loss = 4.23848060e+02\n",
            "It 02200: loss = 4.05252004e+02\n",
            "It 02250: loss = 3.87867555e+02\n",
            "It 02300: loss = 3.71578868e+02\n",
            "It 02350: loss = 3.56282857e+02\n",
            "It 02400: loss = 3.41887946e+02\n",
            "It 02450: loss = 3.28312899e+02\n",
            "It 02500: loss = 3.15485716e+02\n",
            "It 02550: loss = 3.03342621e+02\n",
            "It 02600: loss = 2.91827125e+02\n",
            "It 02650: loss = 2.80889178e+02\n",
            "It 02700: loss = 2.70484388e+02\n",
            "It 02750: loss = 2.60573334e+02\n",
            "It 02800: loss = 2.51120944e+02\n",
            "It 02850: loss = 2.42095940e+02\n",
            "It 02900: loss = 2.33470361e+02\n",
            "It 02950: loss = 2.25219133e+02\n",
            "It 03000: loss = 2.17319703e+02\n",
            "It 03050: loss = 2.09751713e+02\n",
            "It 03100: loss = 2.02496730e+02\n",
            "It 03150: loss = 1.95538001e+02\n",
            "It 03200: loss = 1.88860251e+02\n",
            "It 03250: loss = 1.82449503e+02\n",
            "It 03300: loss = 1.76292929e+02\n",
            "It 03350: loss = 1.70378717e+02\n",
            "It 03400: loss = 1.64695959e+02\n",
            "It 03450: loss = 1.59234547e+02\n",
            "It 03500: loss = 1.53985096e+02\n",
            "It 03550: loss = 1.48938861e+02\n",
            "It 03600: loss = 1.44087675e+02\n",
            "It 03650: loss = 1.39423888e+02\n",
            "It 03700: loss = 1.34940317e+02\n",
            "It 03750: loss = 1.30630195e+02\n",
            "It 03800: loss = 1.26487137e+02\n",
            "It 03850: loss = 1.22505094e+02\n",
            "It 03900: loss = 1.18678324e+02\n",
            "It 03950: loss = 1.15001361e+02\n",
            "It 04000: loss = 1.11468987e+02\n",
            "It 04050: loss = 1.08076207e+02\n",
            "It 04100: loss = 1.04818228e+02\n",
            "It 04150: loss = 1.01690436e+02\n",
            "It 04200: loss = 9.86883851e+01\n",
            "It 04250: loss = 9.58077730e+01\n",
            "It 04300: loss = 9.30444335e+01\n",
            "It 04350: loss = 9.03943219e+01\n",
            "It 04400: loss = 8.78535045e+01\n",
            "It 04450: loss = 8.54181494e+01\n",
            "It 04500: loss = 8.30845190e+01\n",
            "It 04550: loss = 8.08489631e+01\n",
            "It 04600: loss = 7.87079133e+01\n",
            "It 04650: loss = 7.66578790e+01\n",
            "It 04700: loss = 7.46954432e+01\n",
            "It 04750: loss = 7.28172606e+01\n",
            "It 04800: loss = 7.10200549e+01\n",
            "It 04850: loss = 6.93006179e+01\n",
            "It 04900: loss = 6.76558087e+01\n",
            "It 04950: loss = 6.60825535e+01\n",
            "It 05000: loss = 6.45778455e+01\n",
            "\n",
            "Computation time: 437.877414226532 seconds\n"
          ]
        }
      ],
      "source": [
        "from time import time\n",
        "\n",
        "# Define one training step as a TensorFlow function to increase speed of training\n",
        "@tf.function\n",
        "def train_step():\n",
        "    # Compute current loss and gradient w.r.t. parameters\n",
        "    loss, grad_theta = get_grad(model, X_r, X_data, u_data)\n",
        "\n",
        "    # Perform gradient descent step\n",
        "    optim.apply_gradients(zip(grad_theta, model.trainable_variables))\n",
        "\n",
        "    return loss\n",
        "\n",
        "# Number of training epochs\n",
        "N = 5000\n",
        "hist = []\n",
        "\n",
        "# Start timer\n",
        "t0 = time()\n",
        "\n",
        "for i in range(N+1):\n",
        "\n",
        "    loss = train_step()\n",
        "\n",
        "    # Append current loss to hist\n",
        "    hist.append(loss.numpy())\n",
        "\n",
        "    # Output current loss after 50 iterates\n",
        "    if i%50 == 0:\n",
        "        print('It {:05d}: loss = {:10.8e}'.format(i,loss))\n",
        "\n",
        "# Print computation time\n",
        "print('\\nComputation time: {} seconds'.format(time()-t0))"
      ]
    },
    {
      "cell_type": "code",
      "execution_count": null,
      "metadata": {
        "colab": {
          "base_uri": "https://localhost:8080/",
          "height": 544
        },
        "id": "W-mYS_jJId9y",
        "outputId": "1d7ab73a-d350-423d-db1b-756e7cd10b5a"
      },
      "outputs": [
        {
          "data": {
            "image/png": "[encoded data removed]",
            "text/plain": [
              "<Figure size 900x600 with 1 Axes>"
            ]
          },
          "metadata": {},
          "output_type": "display_data"
        }
      ],
      "source": [
        "fig = plt.figure(figsize=(9,6))\n",
        "ax = fig.add_subplot(111)\n",
        "ax.semilogy(range(len(hist)), hist,'k-')\n",
        "ax.set_xlabel('$n_{epoch}$')\n",
        "ax.set_ylabel('$\\\\phi_{n_{epoch}}$');"
      ]
    },
    {
      "cell_type": "markdown",
      "metadata": {
        "id": "fR6v5vwyE-Un"
      },
      "source": [
        "# RUN ABOVE FOR INFERENCE SETTING\n",
        "\n"
      ]
    },
    {
      "cell_type": "code",
      "execution_count": null,
      "metadata": {
        "colab": {
          "base_uri": "https://localhost:8080/",
          "height": 228
        },
        "id": "YkdA4Y_4H2Ec",
        "outputId": "ad4247f6-bcb9-4de4-acac-25d4bc924802"
      },
      "outputs": [
        {
          "ename": "NameError",
          "evalue": "name 'sourceTerm_train' is not defined",
          "output_type": "error",
          "traceback": [
            "\u001b[0;31m---------------------------------------------------------------------------\u001b[0m",
            "\u001b[0;31mNameError\u001b[0m                                 Traceback (most recent call last)",
            "\u001b[0;32m<ipython-input-19-7fbb8a97657a>\u001b[0m in \u001b[0;36m<cell line: 3>\u001b[0;34m()\u001b[0m\n\u001b[1;32m      1\u001b[0m \u001b[0;31m# visualize sourceTerm to compare with cell_test\u001b[0m\u001b[0;34m\u001b[0m\u001b[0;34m\u001b[0m\u001b[0m\n\u001b[1;32m      2\u001b[0m \u001b[0mfig137\u001b[0m \u001b[0;34m=\u001b[0m \u001b[0mplt\u001b[0m\u001b[0;34m.\u001b[0m\u001b[0mfigure\u001b[0m\u001b[0;34m(\u001b[0m\u001b[0mfigsize\u001b[0m\u001b[0;34m=\u001b[0m\u001b[0;34m(\u001b[0m\u001b[0;36m9\u001b[0m\u001b[0;34m,\u001b[0m\u001b[0;36m6\u001b[0m\u001b[0;34m)\u001b[0m\u001b[0;34m)\u001b[0m\u001b[0;34m\u001b[0m\u001b[0;34m\u001b[0m\u001b[0m\n\u001b[0;32m----> 3\u001b[0;31m \u001b[0mplt\u001b[0m\u001b[0;34m.\u001b[0m\u001b[0mplot\u001b[0m\u001b[0;34m(\u001b[0m\u001b[0mt_b\u001b[0m\u001b[0;34m,\u001b[0m \u001b[0msourceTerm_train\u001b[0m\u001b[0;34m,\u001b[0m \u001b[0mcolor\u001b[0m\u001b[0;34m=\u001b[0m\u001b[0;34m'green'\u001b[0m\u001b[0;34m,\u001b[0m \u001b[0mlabel\u001b[0m\u001b[0;34m=\u001b[0m\u001b[0;34m'sourceTerm'\u001b[0m\u001b[0;34m)\u001b[0m\u001b[0;34m\u001b[0m\u001b[0;34m\u001b[0m\u001b[0m\n\u001b[0m\u001b[1;32m      4\u001b[0m \u001b[0;34m\u001b[0m\u001b[0m\n\u001b[1;32m      5\u001b[0m \u001b[0mplt\u001b[0m\u001b[0;34m.\u001b[0m\u001b[0mlegend\u001b[0m\u001b[0;34m(\u001b[0m\u001b[0;34m)\u001b[0m\u001b[0;34m\u001b[0m\u001b[0;34m\u001b[0m\u001b[0m\n",
            "\u001b[0;31mNameError\u001b[0m: name 'sourceTerm_train' is not defined"
          ]
        },
        {
          "data": {
            "text/plain": [
              "<Figure size 900x600 with 0 Axes>"
            ]
          },
          "metadata": {},
          "output_type": "display_data"
        }
      ],
      "source": [
        " # visualize sourceTerm to compare with cell_test\n",
        "fig137 = plt.figure(figsize=(9,6))\n",
        "plt.plot(t_b, sourceTerm_train, color='green', label='sourceTerm')\n",
        "\n",
        "plt.legend()\n",
        "plt.title(\"Source term\")"
      ]
    },
    {
      "cell_type": "code",
      "execution_count": null,
      "metadata": {
        "id": "QOJbu_aDldrI"
      },
      "outputs": [],
      "source": [
        "# visualize the boundary conditions.\n",
        "fig1 = plt.figure(figsize=(9,6))\n",
        "plt.plot(t_b, u_lb, color='green', label='core')\n",
        "plt.plot(t_b, u_ub, color='red', label='bark')\n",
        "plt.legend()\n",
        "plt.title(\"Boundary temperature at the core\")"
      ]
    },
    {
      "cell_type": "markdown",
      "metadata": {
        "id": "WMPKTQqiGi7n"
      },
      "source": [
        "# RUN BELOW FOR IDENTIFICATION SETTING"
      ]
    },
    {
      "cell_type": "markdown",
      "metadata": {
        "id": "m4H4_4S65fX8"
      },
      "source": [
        "Class implementation of PINN. Derive `PINN_NeuralNet` from `tf.keras.Model`.\n",
        "\n",
        "Required arguments are the lower bound `lb` and upper bound `ub`. This is a general neural net that is equation independent."
      ]
    },
    {
      "cell_type": "code",
      "execution_count": null,
      "metadata": {
        "colab": {
          "background_save": true
        },
        "id": "j0dlCK036K5N"
      },
      "outputs": [],
      "source": [
        "# Define model architecture\n",
        "\n",
        "class PINN_NeuralNet(tf.keras.Model):\n",
        "  \"\"\"Basic architecture of the PINN model\n",
        "  \"\"\"\n",
        "\n",
        "  def __init__(self, lb, ub,\n",
        "               output_dim = 1,\n",
        "               num_hidden_layers = 8,\n",
        "               num_neurons_per_layer = 20,\n",
        "               activation = 'tanh',\n",
        "               kernel_initializer = 'glorot_normal',\n",
        "               **kwargs):\n",
        "    super().__init__(**kwargs)\n",
        "\n",
        "    self.num_hidden_layers = num_hidden_layers\n",
        "    self.output_dim = output_dim\n",
        "    self.lb = lb\n",
        "    self.ub = ub\n",
        "\n",
        "    # Define NN architecture\n",
        "    self.scale = tf.keras.layers.Lambda(\n",
        "            lambda x: 2.0*(x - lb)/(ub - lb) - 1.0)\n",
        "    self.hidden = [tf.keras.layers.Dense(num_neurons_per_layer,\n",
        "                             activation=tf.keras.activations.get(activation),\n",
        "                             kernel_initializer=kernel_initializer)\n",
        "                           for _ in range(self.num_hidden_layers)]\n",
        "    self.out = tf.keras.layers.Dense(output_dim)\n",
        "\n",
        "  def call(self, X):\n",
        "    \"\"\"\n",
        "    Forward-pass thru NN\n",
        "    \"\"\"\n",
        "    Z = self.scale(X)\n",
        "    for i in range(self.num_hidden_layers):\n",
        "      Z = self.hidden[i](Z)\n",
        "    return self.out(Z)"
      ]
    },
    {
      "cell_type": "markdown",
      "metadata": {
        "id": "nm4GHEx2fd5D"
      },
      "source": [
        "Derive from the above neural net class to take in additional parameters `lambd1`, `lambd2`."
      ]
    },
    {
      "cell_type": "code",
      "execution_count": null,
      "metadata": {
        "id": "EIDLjWuufwE2"
      },
      "outputs": [],
      "source": [
        "class PINNIdentificationNet(PINN_NeuralNet):\n",
        "    def __init__(self, *args, **kwargs):\n",
        "\n",
        "        # Call init of base class\n",
        "        super().__init__(*args,**kwargs)\n",
        "\n",
        "        # Initialize variable for lambda\n",
        "        # initial guess: lambd1 = 0.16 / (720 * 1300), lambd2 = 1.0 / (720 * 1300)\n",
        "\n",
        "        self.lambd1 = tf.Variable(0.3/(1.38 * 510), trainable=True, dtype=DTYPE)\n",
        "        self.lambd1_list = []\n",
        "\n",
        "        self.lambd2 = tf.Variable(1./(1.38 * 510), trainable=True, dtype=DTYPE)\n",
        "        self.lambd2_list = []\n",
        "\n",
        "        self.lambd3 = tf.Variable(0.3/(1.38 * 510), trainable=True, dtype=DTYPE)\n",
        "        self.lambd3_list = []\n",
        "\n",
        "        self.lambd4 = tf.Variable(1./(1.38 * 510), trainable=True, dtype=DTYPE)\n",
        "        self.lambd4_list = []"
      ]
    },
    {
      "cell_type": "markdown",
      "metadata": {
        "id": "Tk8dBKP8TNZT"
      },
      "source": [
        "Define base class `PINNSolver`. This is equation dependent. Components to customize are\n",
        "\n",
        "1. get_r <---- modify what derivatives are computed\n",
        "2. loss_fn <--- modify the boundary conditions\n",
        "3. fun_r <--- residual of the PDE\n",
        "4. should check all functions if boundary data were changed\n",
        "\n",
        "Here we only consider the method based on tensorflow optimizer object as input. The [original notebook](https://colab.research.google.com/github/janblechschmidt/PDEsByNNs/blob/main/PINN_Solver.ipynb#scrollTo=wcOkamgfZEks) though, also has method based on SciPy's LBFGS method."
      ]
    },
    {
      "cell_type": "code",
      "execution_count": null,
      "metadata": {
        "id": "S8PNryTZZEks"
      },
      "outputs": [],
      "source": [
        "class PINNSolver():\n",
        "    def __init__(self, model, X_r):\n",
        "        self.model = model\n",
        "\n",
        "        # Store collocation points, separate t and x\n",
        "        self.t = X_r[:,0:1]\n",
        "        self.x = X_r[:,1:2]\n",
        "\n",
        "        # Initialize history of losses and global iteration counter\n",
        "        self.hist = []\n",
        "        self.iter = 0\n",
        "\n",
        "    def get_r(self):\n",
        "\n",
        "        with tf.GradientTape(persistent=True) as tape:\n",
        "            # Watch variables representing t and x during this GradientTape\n",
        "            tape.watch(self.t)\n",
        "            tape.watch(self.x)\n",
        "\n",
        "            # Compute current values u(t,x)\n",
        "            u = self.model(tf.stack([self.t[:,0], self.x[:,0]], axis=1))\n",
        "\n",
        "            u_x = tape.gradient(u, self.x)\n",
        "\n",
        "        u_t = tape.gradient(u, self.t)\n",
        "        u_xx = tape.gradient(u_x, self.x)\n",
        "\n",
        "        del tape\n",
        "\n",
        "        return self.fun_r(self.t, self.x, u, u_t, u_x, u_xx) ########\n",
        "\n",
        "\n",
        "    def loss_fn(self, X, u):\n",
        "\n",
        "        # Compute phi_r\n",
        "        r = self.get_r()\n",
        "        phi_r = tf.reduce_mean(tf.square(r))\n",
        "\n",
        "        # Initialize loss\n",
        "        loss = phi_r\n",
        "\n",
        "        # Add phi_0 and phi_b to the loss\n",
        "        for i in range(len(X)):\n",
        "            u_pred = self.model(X[i])\n",
        "            loss += tf.reduce_mean(tf.square(u[i] - u_pred))\n",
        "\n",
        "        return loss\n",
        "\n",
        "\n",
        "    def get_grad(self, X, u):\n",
        "        with tf.GradientTape(persistent=True) as tape:\n",
        "            # This tape is for derivatives with\n",
        "            # respect to trainable variables\n",
        "            tape.watch(self.model.trainable_variables)\n",
        "            loss = self.loss_fn(X, u)\n",
        "\n",
        "        g = tape.gradient(loss, self.model.trainable_variables)\n",
        "        del tape\n",
        "\n",
        "        return loss, g\n",
        "\n",
        "\n",
        "    def fun_r(self, t, x, u, u_t, u_x, u_xx):\n",
        "        \"\"\"Residual of the PDE\"\"\"\n",
        "        ## introduce lambd_3, lambd_4 and separate sourceTerm_train\n",
        "        sourceTerm_train = self.model.lambd2 * train_solar + self.model.lambd3 * (train_airTemp**4 - u_ub**4) + self.model.lambd4 * convect_train\n",
        "        return u_t - self.model.lambd1 * 1./ x * u_x - self.model.lambd1 * u_xx - self.model.lambd2 * sourceTerm_train\n",
        "\n",
        "    def solve_with_TFoptimizer(self, optimizer, X, u, N=1001):\n",
        "        \"\"\"This method performs a gradient descent type optimization.\"\"\"\n",
        "\n",
        "        @tf.function\n",
        "        def train_step():\n",
        "            loss, grad_theta = self.get_grad(X, u)\n",
        "\n",
        "            # Perform gradient descent step\n",
        "            optimizer.apply_gradients(zip(grad_theta, self.model.trainable_variables))\n",
        "            return loss\n",
        "\n",
        "        for i in range(N):\n",
        "\n",
        "            loss = train_step()\n",
        "\n",
        "            self.current_loss = loss.numpy()\n",
        "            self.callback()\n",
        "\n",
        "    def callback(self, xr=None):\n",
        "        lambd1 = self.model.lambd1.numpy()\n",
        "        self.model.lambd1_list.append(lambd1)\n",
        "\n",
        "        lambd2 = self.model.lambd2.numpy()\n",
        "        self.model.lambd2_list.append(lambd2)\n",
        "\n",
        "        lambd3 = self.model.lambd3.numpy()\n",
        "        self.model.lambd1_list.append(lambd3)\n",
        "\n",
        "        lambd4 = self.model.lambd4.numpy()\n",
        "        self.model.lambd2_list.append(lambd4)\n",
        "\n",
        "\n",
        "        if self.iter % 100 == 0:\n",
        "            print('It {:05d}: loss = {:10.8e} lambda1 = {:10.8e} lambda2 = {:10.8e} lambda3 = {:10.8e} lambda4 = {:10.8e}'.format(self.iter, self.current_loss, lambd1, lambd2, lambd3, lambd4))\n",
        "\n",
        "        self.hist.append(self.current_loss)\n",
        "        self.iter += 1\n",
        "\n",
        "\n",
        "    def plot_solution(self, **kwargs):\n",
        "        N = 411\n",
        "        tspace = np.linspace(self.model.lb[0], self.model.ub[0], N)\n",
        "        xspace = np.linspace(self.model.lb[1], self.model.ub[1], N)\n",
        "        T, X = np.meshgrid(tspace, xspace)\n",
        "        Xgrid = np.vstack([T.flatten(),X.flatten()]).T\n",
        "        upred = self.model(tf.cast(Xgrid,DTYPE))\n",
        "        U = upred.numpy().reshape(N,N)\n",
        "        fig = plt.figure(figsize=(9,6))\n",
        "        ax = fig.add_subplot(111, projection='3d')\n",
        "        ax.plot_surface(T, X, U, cmap='viridis', **kwargs)\n",
        "        ax.set_xlabel('$t$')\n",
        "        ax.set_ylabel('$x$')\n",
        "        ax.set_zlabel('$u_{\\theta}(t,x)$')\n",
        "        ax.view_init(35,35)\n",
        "        return ax\n",
        "\n",
        "    def plot_loss_history(self, ax=None):\n",
        "        if not ax:\n",
        "            fig = plt.figure(figsize=(7,5))\n",
        "            ax = fig.add_subplot(111)\n",
        "        ax.semilogy(range(len(self.hist)), self.hist,'k-')\n",
        "        ax.set_xlabel('$n_{epoch}$')\n",
        "        ax.set_ylabel('$\\\\phi^{n_{epoch}}$')\n",
        "        return ax\n",
        "\n",
        "    def plot_loss_and_param(self, axs=None):\n",
        "        if axs:\n",
        "            ax1, ax2 = axs\n",
        "            self.plot_loss_history(ax1)\n",
        "        else:\n",
        "            ax1 = self.plot_loss_history()\n",
        "            ax2 = ax1.twinx()  # instantiate a second axes that shares the same x-axis\n",
        "\n",
        "        # color = 'tab:blue'\n",
        "        ax2.tick_params(axis='y', labelcolor='tab:blue')\n",
        "        ax2.plot(range(len(self.hist)), self.model.lambd1_list,'-',color='tab:blue')\n",
        "        ax2.plot(range(len(self.hist)), self.model.lambd2_list,'-',color='tab:red')\n",
        "        ax2.plot(range(len(self.hist)), self.model.lambd3_list,'-',color='tab:green')\n",
        "        ax2.plot(range(len(self.hist)), self.model.lambd4_list,'-',color='tab:black')\n",
        "        ax2.set_ylabel('$\\\\lambda^{n_{epoch}}$', color='tab:blue')\n",
        "        return (ax1,ax2)"
      ]
    },
    {
      "cell_type": "markdown",
      "metadata": {
        "id": "RoEHg_EUyxDe"
      },
      "source": [
        "Initialize model and solver."
      ]
    },
    {
      "cell_type": "code",
      "execution_count": null,
      "metadata": {
        "id": "50yxQSRfzKnh"
      },
      "outputs": [],
      "source": [
        "# initialize model\n",
        "model = PINNIdentificationNet(lb, ub, num_hidden_layers=2)\n",
        "model.build(input_shape=(None,2))\n",
        "\n",
        "# initialize PINN solver\n",
        "solver = PINNSolver(model, X_r)"
      ]
    },
    {
      "cell_type": "markdown",
      "metadata": {
        "id": "esTT6KY-UDx9"
      },
      "source": [
        "Start training"
      ]
    },
    {
      "cell_type": "code",
      "execution_count": null,
      "metadata": {
        "id": "1Cd0oEw9UF9T"
      },
      "outputs": [],
      "source": [
        "lr = tf.keras.optimizers.schedules.PiecewiseConstantDecay([1000,3000],[1e-2,1e-3,5e-4])\n",
        "optim = tf.keras.optimizers.Adam(learning_rate=lr)\n",
        "\n",
        "EPOCH = 6000\n",
        "\n",
        "# start timer\n",
        "t0 = time()\n",
        "\n",
        "solver.solve_with_TFoptimizer(optim, X_data, u_data, N=EPOCH)\n",
        "\n",
        "# Print computation time\n",
        "print('\\nComputation time: {} seconds'.format(time()-t0))"
      ]
    },
    {
      "cell_type": "markdown",
      "metadata": {
        "id": "y2ucpOyq3IVs"
      },
      "source": [
        "Plot solution and loss history"
      ]
    },
    {
      "cell_type": "code",
      "execution_count": null,
      "metadata": {
        "id": "LxXD05Be3LYP"
      },
      "outputs": [],
      "source": [
        "solver.plot_solution();\n"
      ]
    },
    {
      "cell_type": "code",
      "execution_count": null,
      "metadata": {
        "id": "mCTpZsWtgYQN"
      },
      "outputs": [],
      "source": [
        "\n",
        "solver.plot_loss_history();\n"
      ]
    },
    {
      "cell_type": "code",
      "execution_count": null,
      "metadata": {
        "id": "cz37S5YbgaDD"
      },
      "outputs": [],
      "source": [
        "\n",
        "solver.plot_loss_and_param();"
      ]
    },
    {
      "cell_type": "markdown",
      "metadata": {
        "id": "6JTaHKdPfw38"
      },
      "source": [
        "# Cells below replace cells after \"Class implementation of PINN...\"\n",
        "\n",
        "## As of now, the error in computation seems more like coding error (1e5) rather than logic error (expected 1e0), so we work on the following methods to debug\n",
        "\n",
        "Write a simplified forward problem; eliminate parameter identification problem, and use $\\lambda_1$ and $\\lambda_2$ that worked for FD problem in cell_test. These values should be\n",
        "\n",
        "$\\lambda_1=k/\\rho c=0.3/(1.38 * 510)$ and $\\lambda_2=1/\\rho c=0.3/(1.38 * 510)$. We will see if the errors are still very big.\n",
        "\n",
        "The code below is modified from\n",
        "\n",
        "https://github.com/yajuna/tensorflow_pde/blob/master/Simple_PDE_with_tensorflow.ipynb\n"
      ]
    },
    {
      "cell_type": "code",
      "execution_count": null,
      "metadata": {
        "id": "H7hiyHSckh-E"
      },
      "outputs": [],
      "source": [
        "lambd1 = 0.3/(1.38 * 510)\n",
        "lambd2 = 1./(1.38 * 510)"
      ]
    },
    {
      "cell_type": "code",
      "execution_count": null,
      "metadata": {
        "id": "s946G6soi2Re"
      },
      "outputs": [],
      "source": [
        "def init_model(num_hidden_layers=8, num_neurons_per_layer=20):\n",
        "    # Initialize a feedforward neural network\n",
        "    model = tf.keras.Sequential()\n",
        "\n",
        "    # Input is two-dimensional (time + one spatial dimension)\n",
        "    model.add(tf.keras.Input(2))\n",
        "\n",
        "    # Introduce a scaling layer to map input to [lb, ub]\n",
        "    scaling_layer = tf.keras.layers.Lambda(\n",
        "                lambda x: 2.0*(x - lb)/(ub - lb) - 1.0)\n",
        "    model.add(scaling_layer)\n",
        "\n",
        "    # Append hidden layers\n",
        "    for _ in range(num_hidden_layers):\n",
        "        model.add(tf.keras.layers.Dense(num_neurons_per_layer,\n",
        "            activation=tf.keras.activations.get('tanh'),\n",
        "            kernel_initializer='glorot_normal'))\n",
        "\n",
        "    # Output is one-dimensional\n",
        "    model.add(tf.keras.layers.Dense(1))\n",
        "\n",
        "    return model\n"
      ]
    },
    {
      "cell_type": "code",
      "execution_count": null,
      "metadata": {
        "id": "BXYynEIti3UJ"
      },
      "outputs": [],
      "source": [
        "def get_r(model, X_r)-> tf.Tensor:\n",
        "\n",
        "    # A tf.GradientTape is used to compute derivatives in TensorFlow\n",
        "    with tf.GradientTape(persistent=True) as tape:\n",
        "        # Split t and x to compute partial derivatives\n",
        "        t, x = X_r[:, 0:1], X_r[:,1:2]\n",
        "\n",
        "        # Variables t and x are watched during tape\n",
        "        # to compute derivatives u_t and u_x\n",
        "        tape.watch(t)\n",
        "        tape.watch(x)\n",
        "\n",
        "        # Determine residual\n",
        "        u = model(tf.stack([t[:,0], x[:,0]], axis=1))\n",
        "\n",
        "        # Compute gradient u_x within the GradientTape\n",
        "        # since we need second derivatives\n",
        "        u_x = tape.gradient(u, x)\n",
        "        u_t = tape.gradient(u, t)\n",
        "\n",
        "    u_xx = tape.gradient(u_x, x)\n",
        "\n",
        "    del tape\n",
        "\n",
        "    return u_t - 1./x * lambd1 * u_x - lambd1 * u_xx - lambd2 * sourceTerm_train"
      ]
    },
    {
      "cell_type": "code",
      "execution_count": null,
      "metadata": {
        "id": "VlNpru9Fi6US"
      },
      "outputs": [],
      "source": [
        "model = init_model(num_hidden_layers = 2)\n",
        "r = get_r(model, X_0)\n",
        "phi_r = tf.reduce_mean(tf.square(r))\n",
        "loss = phi_r\n",
        "\n",
        "print(X_0.shape)\n",
        "print(X_0[1].shape)\n"
      ]
    },
    {
      "cell_type": "code",
      "execution_count": null,
      "metadata": {
        "id": "iVNEUKvgi-af"
      },
      "outputs": [],
      "source": [
        "def compute_loss(model, X_r, X_data, u_data)-> tf.Tensor:\n",
        "\n",
        "    # Compute phi^r-- physics informed loss\n",
        "    r = get_r(model, X_r)\n",
        "    phi_r = tf.reduce_mean(tf.square(r))\n",
        "\n",
        "    # Initialize loss\n",
        "    loss = phi_r\n",
        "\n",
        "    # Add initial error loss; add boundary loss\n",
        "\n",
        "    for i in range(len(X_data)):\n",
        "        u_pred = model(X_data[i])\n",
        "        loss += tf.reduce_mean(tf.square(u_data[i] - u_pred))\n",
        "\n",
        "        return loss\n",
        "\n",
        "    ## define customized loss-- max(abs(u_data and u_pred))\n",
        "\n",
        "\n",
        "    return loss"
      ]
    },
    {
      "cell_type": "code",
      "execution_count": null,
      "metadata": {
        "id": "ikw_iP3fjA5J"
      },
      "outputs": [],
      "source": [
        "loss = compute_loss(model, X_r, X_data, u_data)"
      ]
    },
    {
      "cell_type": "code",
      "execution_count": null,
      "metadata": {
        "id": "So9oyn72jDCa"
      },
      "outputs": [],
      "source": [
        "def get_grad(model, X_r, X_data, u_data):\n",
        "\n",
        "    with tf.GradientTape(persistent=True) as tape:\n",
        "        # This tape is for derivatives with\n",
        "        # respect to trainable variables\n",
        "        tape.watch(model.trainable_variables)\n",
        "        loss = compute_loss(model, X_r, X_data, u_data)\n",
        "\n",
        "    g = tape.gradient(loss, model.trainable_variables)\n",
        "    del tape\n",
        "\n",
        "    return loss, g"
      ]
    },
    {
      "cell_type": "code",
      "execution_count": null,
      "metadata": {
        "id": "-vY7RhtFjFWw"
      },
      "outputs": [],
      "source": [
        "# Initialize model aka u_\\theta\n",
        "model = init_model(num_hidden_layers = 2)\n",
        "# print(model.layers[0].input_shape)\n",
        "\n",
        "# We choose a piecewise decay of the learning rate, i.e., the\n",
        "# step size in the gradient descent type algorithm\n",
        "# the first 1000 steps use a learning rate of 0.01\n",
        "# from 1000 - 3000: learning rate = 0.001\n",
        "# from 3000 onwards: learning rate = 0.0005\n",
        "\n",
        "lr = tf.keras.optimizers.schedules.PiecewiseConstantDecay([1000,3000],[1e-2,1e-3,5e-4])\n",
        "\n",
        "# Choose the optimizer\n",
        "optim = tf.keras.optimizers.Adam(learning_rate=lr)"
      ]
    },
    {
      "cell_type": "code",
      "execution_count": null,
      "metadata": {
        "id": "fcMnDK2JjIUh"
      },
      "outputs": [],
      "source": [
        "# Define one training step as a TensorFlow function to increase speed of training\n",
        "@tf.function\n",
        "def train_step()-> tf.Tensor:\n",
        "    # Compute current loss and gradient w.r.t. parameters\n",
        "    loss, grad_theta = get_grad(model, X_r, X_data, u_data)\n",
        "\n",
        "    # Perform gradient descent step\n",
        "    optim.apply_gradients(zip(grad_theta, model.trainable_variables))\n",
        "\n",
        "    return loss\n",
        "\n",
        "# Number of training epochs\n",
        "EPOCH = 50000\n",
        "hist = []\n",
        "\n",
        "# Start timer\n",
        "t0 = time()\n",
        "\n",
        "for i in range(EPOCH+1):\n",
        "\n",
        "    loss = train_step()\n",
        "\n",
        "    # Append current loss to hist\n",
        "    hist.append(loss.numpy())\n",
        "\n",
        "    # Output current loss after 50 iterates\n",
        "    if i%50 == 0:\n",
        "        print('It {:05d}: loss = {:10.8e}'.format(i,loss))\n",
        "\n",
        "# Print computation time\n",
        "print('\\nComputation time: {} seconds'.format(time()-t0))"
      ]
    },
    {
      "cell_type": "code",
      "execution_count": null,
      "metadata": {
        "id": "iLvGB9XwNENo"
      },
      "outputs": [],
      "source": [
        "# Interactive plotting tools\n",
        "# visualization tools\n",
        "import plotly.graph_objects as go\n",
        "from plotly.subplots import make_subplots\n",
        "from typing import Tuple, Iterable\n",
        "\n",
        "N = 600\n",
        "tspace = np.linspace(lb[0], ub[0], N + 1)\n",
        "xspace = np.linspace(lb[1], ub[1], N + 1)\n",
        "T, X = np.meshgrid(tspace, xspace)\n",
        "\n",
        "Xgrid = np.vstack([T.flatten(),X.flatten()]).T\n",
        "# Determine predictions of u(t, x)\n",
        "upred = model(tf.cast(Xgrid,DTYPE))\n",
        "\n",
        "# Reshape upred\n",
        "U = upred.numpy().reshape(N+1,N+1)\n",
        "\n",
        "# draw plane\n",
        "surface = go.Surface(x=T, y=X, z=U, colorscale=\"phase\", showscale=False)\n",
        "\n",
        "# create figure\n",
        "fig317 = make_subplots(rows=1, cols=1, specs=[[{'type': 'surface'}]])\n",
        "fig317.add_trace(surface, row=1, col=1)\n",
        "\n",
        "fig317.show()"
      ]
    },
    {
      "cell_type": "code",
      "execution_count": null,
      "metadata": {
        "id": "b22KrkXAjReF"
      },
      "outputs": [],
      "source": [
        "fig = plt.figure(figsize=(9,6))\n",
        "ax = fig.add_subplot(111)\n",
        "ax.semilogy(range(len(hist)), hist,'k-')\n",
        "ax.set_xlabel('$n_{epoch}$')\n",
        "ax.set_ylabel('$\\\\phi_{n_{epoch}}$');\n"
      ]
    },
    {
      "cell_type": "code",
      "execution_count": null,
      "metadata": {
        "id": "EZD0Q6aojPZb"
      },
      "outputs": [],
      "source": [
        "# from mpl_toolkits.mplot3d import Axes3D\n",
        "\n",
        "# # Set up meshgrid\n",
        "# N = 600\n",
        "# tspace = np.linspace(lb[0], ub[0], N + 1)\n",
        "# xspace = np.linspace(lb[1], ub[1], N + 1)\n",
        "# T, X = np.meshgrid(tspace, xspace)\n",
        "# Xgrid = np.vstack([T.flatten(),X.flatten()]).T\n",
        "\n",
        "# # Determine predictions of u(t, x)\n",
        "# upred = model(tf.cast(Xgrid,DTYPE))\n",
        "\n",
        "# # Reshape upred\n",
        "# U = upred.numpy().reshape(N+1,N+1)\n",
        "\n",
        "# # Surface plot of solution u(t,x)\n",
        "# fig = plt.figure(figsize=(9,6))\n",
        "# ax = fig.add_subplot(111, projection='3d')\n",
        "# ax.plot_surface(T, X, U, cmap='viridis');\n",
        "# ax.view_init(40,40)\n",
        "# ax.set_xlabel('$t$')\n",
        "# ax.set_ylabel('$x$')\n",
        "# ax.set_zlabel('$u_{\\theta}(t,x)$')\n",
        "# ax.set_title('Solution of heat equation');\n",
        "# #plt.savefig('wave_Solution.pdf', bbox_inches='tight', dpi=300);\n"
      ]
    }
  ],
  "metadata": {
    "colab": {
      "provenance": [],
      "toc_visible": true,
      "include_colab_link": true
    },
    "kernelspec": {
      "display_name": "Python 3",
      "name": "python3"
    },
    "language_info": {
      "name": "python"
    }
  },
  "nbformat": 4,
  "nbformat_minor": 0
}