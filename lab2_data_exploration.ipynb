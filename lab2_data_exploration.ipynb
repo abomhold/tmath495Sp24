{
  "nbformat": 4,
  "nbformat_minor": 0,
  "metadata": {
    "colab": {
      "provenance": [],
      "authorship_tag": "ABX9TyOAxsN5bdfCIFZU1SpVimfD",
      "include_colab_link": true
    },
    "kernelspec": {
      "name": "python3",
      "display_name": "Python 3"
    },
    "language_info": {
      "name": "python"
    }
  },
  "cells": [
    {
      "cell_type": "markdown",
      "metadata": {
        "id": "view-in-github",
        "colab_type": "text"
      },
      "source": [
        "<a href=\"https://colab.research.google.com/github/yajuna/tmath495Sp24/blob/master/lab2_data_exploration.ipynb\" target=\"_parent\"><img src=\"https://colab.research.google.com/assets/colab-badge.svg\" alt=\"Open In Colab\"/></a>"
      ]
    },
    {
      "cell_type": "markdown",
      "source": [
        "# Data exploration. Main reference:\n",
        "[regression notebook](https://github.com/yajuna/linearRegression/blob/master/regression_tree.ipynb)"
      ],
      "metadata": {
        "id": "itT9f14C0qBq"
      }
    },
    {
      "cell_type": "code",
      "execution_count": null,
      "metadata": {
        "colab": {
          "base_uri": "https://localhost:8080/"
        },
        "id": "fftZ84ToxLoW",
        "outputId": "ab56947d-f29c-4912-b4b7-5c2fecd11f53"
      },
      "outputs": [
        {
          "output_type": "stream",
          "name": "stdout",
          "text": [
            "Python 3 version is 3.10.12 (main, Nov 20 2023, 15:14:05) [GCC 11.4.0]\n",
            "Matplotlib version is 3.7.1\n",
            "Tensorflow version is 2.15.0\n",
            "Numpy version is 1.25.2\n",
            "pandas version is 2.0.3\n",
            "scikit learn version is 1.2.2\n"
          ]
        }
      ],
      "source": [
        "import tensorflow as tf\n",
        "import numpy as np\n",
        "import matplotlib.pyplot as plt\n",
        "import pandas as pd\n",
        "\n",
        "from time import time\n",
        "\n",
        "from sklearn.linear_model import LinearRegression\n",
        "from sklearn.metrics import mean_squared_error, mean_absolute_error\n",
        "\n",
        "import sys\n",
        "print(\"Python 3 version is\", sys.version)\n",
        "import matplotlib\n",
        "print(\"Matplotlib version is\", matplotlib.__version__)\n",
        "print(\"Tensorflow version is\", tf.__version__)\n",
        "print(\"Numpy version is\", np.__version__)\n",
        "print(\"pandas version is\", pd.__version__)\n",
        "import sklearn\n",
        "print(\"scikit learn version is\", sklearn. __version__)"
      ]
    },
    {
      "cell_type": "code",
      "source": [
        "# define parameter\n",
        "n_t = 450\n",
        "radius = 0.135 # unit m\n",
        "time = np.linspace(0, 24, n_t, endpoint = False)"
      ],
      "metadata": {
        "id": "-Zi8Qoe50VoI"
      },
      "execution_count": null,
      "outputs": []
    },
    {
      "cell_type": "code",
      "source": [
        "colnames = ['temp_datetime', 's45_1', 'e9_1', 'n135_1','e45_2', 'n9_2', 'w135_2', 'n45_3', 'w9_3','s135_3', 'w_ext_35']\n",
        "url1 = \"https://raw.githubusercontent.com/yajuna/linearRegression/master/Tree_Temp_Values_AUG21_to_AUG28_2022.xlsx\"\n",
        "dataTemp = pd.read_excel(url1,names=colnames)\n",
        "dataTemp['temp_datetime'] = pd.to_datetime(dataTemp['temp_datetime'])\n",
        "dataTemp = dataTemp.set_index('temp_datetime')"
      ],
      "metadata": {
        "id": "e0YEon8x0Z9H"
      },
      "execution_count": null,
      "outputs": []
    },
    {
      "cell_type": "code",
      "source": [],
      "metadata": {
        "id": "V7PnnsZD0a9B"
      },
      "execution_count": null,
      "outputs": []
    }
  ]
}